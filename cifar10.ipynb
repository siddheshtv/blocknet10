{
  "nbformat": 4,
  "nbformat_minor": 0,
  "metadata": {
    "colab": {
      "provenance": [],
      "gpuType": "T4"
    },
    "kernelspec": {
      "name": "python3",
      "display_name": "Python 3"
    },
    "language_info": {
      "name": "python"
    },
    "accelerator": "GPU"
  },
  "cells": [
    {
      "cell_type": "code",
      "execution_count": 1,
      "metadata": {
        "colab": {
          "base_uri": "https://localhost:8080/"
        },
        "id": "Lz0ERGZIhjIx",
        "outputId": "fd4b1eb9-da79-4600-d087-586f2bfebb44"
      },
      "outputs": [
        {
          "output_type": "execute_result",
          "data": {
            "text/plain": [
              "<torch._C.Generator at 0x7bf84c1ad970>"
            ]
          },
          "metadata": {},
          "execution_count": 1
        }
      ],
      "source": [
        "import torch\n",
        "import torchvision\n",
        "import torchvision.transforms as transforms\n",
        "from torchvision import datasets\n",
        "import torch.nn as nn\n",
        "import torch.nn.functional as F\n",
        "import torch.optim as optim\n",
        "import torch.optim.lr_scheduler as lr_scheduler\n",
        "\n",
        "torch.manual_seed(42)"
      ]
    },
    {
      "cell_type": "code",
      "source": [
        "transform_train = transforms.Compose([\n",
        "    transforms.RandomHorizontalFlip(),\n",
        "    transforms.RandomRotation(10),\n",
        "    transforms.RandomCrop(32, padding=4),\n",
        "    transforms.ColorJitter(brightness=0.2, contrast=0.2, saturation=0.2, hue=0.1),\n",
        "    transforms.ToTensor(),\n",
        "    transforms.Normalize((0.5, 0.5, 0.5), (0.5, 0.5, 0.5))\n",
        "])\n",
        "\n",
        "transform_test = transforms.Compose([\n",
        "    transforms.ToTensor(),\n",
        "    transforms.Normalize((0.5, 0.5, 0.5), (0.5, 0.5, 0.5))\n",
        "])"
      ],
      "metadata": {
        "id": "W_j6qsaChwSY"
      },
      "execution_count": 2,
      "outputs": []
    },
    {
      "cell_type": "code",
      "source": [
        "train_dataset = datasets.CIFAR10(root='./data', train=True, download=True, transform=transform_train)\n",
        "test_dataset = datasets.CIFAR10(root='./data', train=False, download=True, transform=transform_test)\n",
        "\n",
        "batch_size = 128\n",
        "train_loader = torch.utils.data.DataLoader(train_dataset, batch_size=batch_size, shuffle=True, num_workers=2)\n",
        "test_loader = torch.utils.data.DataLoader(test_dataset, batch_size=batch_size, shuffle=False, num_workers=2)"
      ],
      "metadata": {
        "colab": {
          "base_uri": "https://localhost:8080/"
        },
        "id": "tqx0FB-ohyEs",
        "outputId": "cb5b6a13-09a6-4954-ab4c-8b9d5ab36ea0"
      },
      "execution_count": 3,
      "outputs": [
        {
          "output_type": "stream",
          "name": "stdout",
          "text": [
            "Files already downloaded and verified\n",
            "Files already downloaded and verified\n"
          ]
        }
      ]
    },
    {
      "cell_type": "code",
      "source": [
        "device = torch.device(\"cuda\" if torch.cuda.is_available() else \"cpu\")\n",
        "print(f\"Using device: {device}\")"
      ],
      "metadata": {
        "colab": {
          "base_uri": "https://localhost:8080/"
        },
        "id": "pOt6i7dDh1FI",
        "outputId": "d1c3e3aa-8aea-4423-b82f-b7d1b6af0200"
      },
      "execution_count": 4,
      "outputs": [
        {
          "output_type": "stream",
          "name": "stdout",
          "text": [
            "Using device: cuda\n"
          ]
        }
      ]
    },
    {
      "cell_type": "code",
      "source": [
        "\n",
        "class IntermediateBlock(nn.Module):\n",
        "    def __init__(self, in_channels, num_conv_layers, conv_params):\n",
        "        super(IntermediateBlock, self).__init__()\n",
        "        self.conv_layers = nn.ModuleList([nn.Conv2d(in_channels, *conv_params) for _ in range(num_conv_layers)])\n",
        "        self.batch_norms = nn.ModuleList([nn.BatchNorm2d(conv_params[0]) for _ in range(num_conv_layers)])\n",
        "        out_channels = conv_params[0]\n",
        "        self.fc = nn.Linear(in_channels, out_channels)\n",
        "\n",
        "    def forward(self, x):\n",
        "        batch_size = x.size(0)\n",
        "        channel_means = x.mean(dim=[2, 3])\n",
        "        a = self.fc(channel_means)\n",
        "        x_out = torch.stack([F.leaky_relu(conv(x)) for conv in self.conv_layers], dim=-1).sum(dim=-1)\n",
        "        x_out = torch.stack([bn(x_out) for bn in self.batch_norms], dim=-1).sum(dim=-1)\n",
        "        return x_out * F.leaky_relu(a.view(batch_size, -1, 1, 1))"
      ],
      "metadata": {
        "id": "9H2WtWezh1Z3"
      },
      "execution_count": 5,
      "outputs": []
    },
    {
      "cell_type": "code",
      "source": [
        "class OutputBlock(nn.Module):\n",
        "    def __init__(self, in_channels, num_classes, hidden_sizes=[]):\n",
        "        super(OutputBlock, self).__init__()\n",
        "        self.fc_layers = nn.ModuleList([nn.Linear(in_channels, hidden_sizes[0])] + [nn.Linear(hidden_sizes[i], hidden_sizes[i+1]) for i in range(len(hidden_sizes)-1)] + [nn.Linear(hidden_sizes[-1], num_classes)])\n",
        "        self.batch_norms = nn.ModuleList([nn.BatchNorm1d(size) for size in hidden_sizes])\n",
        "\n",
        "    def forward(self, x):\n",
        "        channel_means = x.mean(dim=[2, 3])\n",
        "        out = F.leaky_relu(channel_means)\n",
        "        for fc, bn in zip(self.fc_layers, self.batch_norms):\n",
        "            out = F.leaky_relu(bn(fc(out)))\n",
        "        return out"
      ],
      "metadata": {
        "id": "lnL9pR54h_AV"
      },
      "execution_count": 6,
      "outputs": []
    },
    {
      "cell_type": "code",
      "source": [
        "class CustomCIFAR10Net(nn.Module):\n",
        "    def __init__(self, num_classes=10):\n",
        "        super(CustomCIFAR10Net, self).__init__()\n",
        "        self.intermediate_blocks = nn.ModuleList([\n",
        "            IntermediateBlock(3, 3, [64, 3, 3, 1, 1]),\n",
        "            IntermediateBlock(64, 3, [128, 3, 3, 1, 1]),\n",
        "            IntermediateBlock(128, 3, [256, 3, 3, 1, 1]),\n",
        "            IntermediateBlock(256, 3, [512, 3, 3, 1, 1]),\n",
        "            IntermediateBlock(512, 3, [1024, 3, 3, 1, 1])\n",
        "        ])\n",
        "        self.output_block = OutputBlock(1024, num_classes, [512, 256])\n",
        "        self.dropout = nn.Dropout(0.5)\n",
        "\n",
        "        for m in self.modules():\n",
        "            if isinstance(m, nn.Conv2d) or isinstance(m, nn.Linear):\n",
        "                nn.init.kaiming_normal_(m.weight, mode='fan_in', nonlinearity='relu')\n",
        "\n",
        "\n",
        "    def forward(self, x):\n",
        "        for block in self.intermediate_blocks:\n",
        "            x = block(x)\n",
        "            x = self.dropout(x)\n",
        "        x = self.output_block(x)\n",
        "        return x\n",
        "\n",
        "model = CustomCIFAR10Net()\n",
        "input_data = torch.randn(batch_size, 3, 32, 32)\n",
        "output = model(input_data)\n",
        "print(output.shape)\n"
      ],
      "metadata": {
        "colab": {
          "base_uri": "https://localhost:8080/"
        },
        "id": "vkLt1t03iAXi",
        "outputId": "07901e64-4696-4c2a-c886-4600ae0e092b"
      },
      "execution_count": 7,
      "outputs": [
        {
          "output_type": "stream",
          "name": "stdout",
          "text": [
            "torch.Size([128, 256])\n"
          ]
        }
      ]
    },
    {
      "cell_type": "code",
      "source": [
        "model = CustomCIFAR10Net().to(device)"
      ],
      "metadata": {
        "id": "_3_9TjHSiJiH"
      },
      "execution_count": 8,
      "outputs": []
    },
    {
      "cell_type": "code",
      "source": [
        "criterion = nn.CrossEntropyLoss()\n",
        "optimizer = optim.AdamW(model.parameters(), lr=0.01, betas=(0.8, 0.95), weight_decay=0.0005, amsgrad=True, eps=1e-8)\n",
        "scheduler = lr_scheduler.CosineAnnealingLR(optimizer, T_max=200)"
      ],
      "metadata": {
        "id": "Qj78AqPIiNNr"
      },
      "execution_count": 9,
      "outputs": []
    },
    {
      "cell_type": "code",
      "source": [
        "train_losses = []\n",
        "train_accuracies = []\n",
        "test_accuracies = []"
      ],
      "metadata": {
        "id": "jvZtTEHZiPJT"
      },
      "execution_count": 10,
      "outputs": []
    },
    {
      "cell_type": "code",
      "source": [
        "num_epochs = 50\n",
        "total_steps = len(train_loader) * num_epochs\n",
        "step_count = 0\n",
        "\n",
        "for epoch in range(num_epochs):\n",
        "    running_loss = 0.0\n",
        "    correct_train = 0\n",
        "    total_train = 0\n",
        "\n",
        "    for i, (inputs, labels) in enumerate(train_loader, 0):\n",
        "        inputs, labels = inputs.to(device), labels.to(device)\n",
        "        optimizer.zero_grad()\n",
        "        outputs = model(inputs)\n",
        "        loss = criterion(outputs, labels)\n",
        "        loss.backward()\n",
        "        optimizer.step()\n",
        "        running_loss += loss.item()\n",
        "        step_count += 1\n",
        "        if step_count % 100 == 0:\n",
        "            train_losses.append(running_loss / 100)\n",
        "            print(f'[Epoch: {epoch + 1}, Step: {step_count:5d}/{total_steps}] loss: {running_loss / 100:.3f}')\n",
        "            running_loss = 0.0\n",
        "\n",
        "        if i == len(train_loader) - 1:\n",
        "            model.eval()\n",
        "            with torch.no_grad():\n",
        "                for images, labels in train_loader:\n",
        "                    images, labels = images.to(device), labels.to(device)\n",
        "                    outputs = model(images)\n",
        "                    _, predicted = torch.max(outputs.data, 1)\n",
        "                    total_train += labels.size(0)\n",
        "                    correct_train += (predicted == labels).sum().item()\n",
        "\n",
        "            train_accuracy = 100 * correct_train / total_train\n",
        "            train_accuracies.append(train_accuracy)\n",
        "\n",
        "    scheduler.step()\n",
        "\n",
        "    model.eval()\n",
        "    correct_test = 0\n",
        "    total_test = 0\n",
        "\n",
        "    with torch.no_grad():\n",
        "        for images, labels in test_loader:\n",
        "            images, labels = images.to(device), labels.to(device)\n",
        "            outputs = model(images)\n",
        "            _, predicted = torch.max(outputs.data, 1)\n",
        "            total_test += labels.size(0)\n",
        "            correct_test += (predicted == labels).sum().item()\n",
        "\n",
        "    test_accuracy = 100 * correct_test / total_test\n",
        "    test_accuracies.append(test_accuracy)\n",
        "\n",
        "    print(f'Epoch {epoch + 1}: Test Accuracy = {test_accuracy:.2f}%')"
      ],
      "metadata": {
        "colab": {
          "base_uri": "https://localhost:8080/"
        },
        "id": "qdLzIbIjiBk4",
        "outputId": "5b0e69a2-3071-4b9a-86de-5f5c1daf8816"
      },
      "execution_count": 11,
      "outputs": [
        {
          "output_type": "stream",
          "name": "stdout",
          "text": [
            "[Epoch: 1, Step:   100/19550] loss: 5.017\n",
            "[Epoch: 1, Step:   200/19550] loss: 4.064\n",
            "[Epoch: 1, Step:   300/19550] loss: 3.413\n",
            "Epoch 1: Test Accuracy = 15.58%\n",
            "[Epoch: 2, Step:   400/19550] loss: 0.234\n",
            "[Epoch: 2, Step:   500/19550] loss: 2.236\n",
            "[Epoch: 2, Step:   600/19550] loss: 2.067\n",
            "[Epoch: 2, Step:   700/19550] loss: 1.944\n",
            "Epoch 2: Test Accuracy = 27.57%\n",
            "[Epoch: 3, Step:   800/19550] loss: 0.334\n",
            "[Epoch: 3, Step:   900/19550] loss: 1.834\n",
            "[Epoch: 3, Step:  1000/19550] loss: 1.792\n",
            "[Epoch: 3, Step:  1100/19550] loss: 1.747\n",
            "Epoch 3: Test Accuracy = 39.09%\n",
            "[Epoch: 4, Step:  1200/19550] loss: 0.447\n",
            "[Epoch: 4, Step:  1300/19550] loss: 1.669\n",
            "[Epoch: 4, Step:  1400/19550] loss: 1.632\n",
            "[Epoch: 4, Step:  1500/19550] loss: 1.570\n",
            "Epoch 4: Test Accuracy = 46.18%\n",
            "[Epoch: 5, Step:  1600/19550] loss: 0.549\n",
            "[Epoch: 5, Step:  1700/19550] loss: 1.518\n",
            "[Epoch: 5, Step:  1800/19550] loss: 1.515\n",
            "[Epoch: 5, Step:  1900/19550] loss: 1.471\n",
            "Epoch 5: Test Accuracy = 49.87%\n",
            "[Epoch: 6, Step:  2000/19550] loss: 0.658\n",
            "[Epoch: 6, Step:  2100/19550] loss: 1.430\n",
            "[Epoch: 6, Step:  2200/19550] loss: 1.413\n",
            "[Epoch: 6, Step:  2300/19550] loss: 1.382\n",
            "Epoch 6: Test Accuracy = 52.99%\n",
            "[Epoch: 7, Step:  2400/19550] loss: 0.740\n",
            "[Epoch: 7, Step:  2500/19550] loss: 1.357\n",
            "[Epoch: 7, Step:  2600/19550] loss: 1.346\n",
            "[Epoch: 7, Step:  2700/19550] loss: 1.337\n",
            "Epoch 7: Test Accuracy = 55.12%\n",
            "[Epoch: 8, Step:  2800/19550] loss: 0.839\n",
            "[Epoch: 8, Step:  2900/19550] loss: 1.292\n",
            "[Epoch: 8, Step:  3000/19550] loss: 1.288\n",
            "[Epoch: 8, Step:  3100/19550] loss: 1.269\n",
            "Epoch 8: Test Accuracy = 56.84%\n",
            "[Epoch: 9, Step:  3200/19550] loss: 0.894\n",
            "[Epoch: 9, Step:  3300/19550] loss: 1.237\n",
            "[Epoch: 9, Step:  3400/19550] loss: 1.243\n",
            "[Epoch: 9, Step:  3500/19550] loss: 1.217\n",
            "Epoch 9: Test Accuracy = 59.48%\n",
            "[Epoch: 10, Step:  3600/19550] loss: 0.971\n",
            "[Epoch: 10, Step:  3700/19550] loss: 1.193\n",
            "[Epoch: 10, Step:  3800/19550] loss: 1.185\n",
            "[Epoch: 10, Step:  3900/19550] loss: 1.186\n",
            "Epoch 10: Test Accuracy = 61.59%\n",
            "[Epoch: 11, Step:  4000/19550] loss: 1.043\n",
            "[Epoch: 11, Step:  4100/19550] loss: 1.162\n",
            "[Epoch: 11, Step:  4200/19550] loss: 1.151\n",
            "[Epoch: 11, Step:  4300/19550] loss: 1.140\n",
            "Epoch 11: Test Accuracy = 62.29%\n",
            "[Epoch: 12, Step:  4400/19550] loss: 1.126\n",
            "[Epoch: 12, Step:  4500/19550] loss: 1.130\n",
            "[Epoch: 12, Step:  4600/19550] loss: 1.111\n",
            "Epoch 12: Test Accuracy = 62.69%\n",
            "[Epoch: 13, Step:  4700/19550] loss: 0.090\n",
            "[Epoch: 13, Step:  4800/19550] loss: 1.095\n",
            "[Epoch: 13, Step:  4900/19550] loss: 1.098\n",
            "[Epoch: 13, Step:  5000/19550] loss: 1.087\n",
            "Epoch 13: Test Accuracy = 64.62%\n",
            "[Epoch: 14, Step:  5100/19550] loss: 0.182\n",
            "[Epoch: 14, Step:  5200/19550] loss: 1.072\n",
            "[Epoch: 14, Step:  5300/19550] loss: 1.050\n",
            "[Epoch: 14, Step:  5400/19550] loss: 1.052\n",
            "Epoch 14: Test Accuracy = 65.12%\n",
            "[Epoch: 15, Step:  5500/19550] loss: 0.265\n",
            "[Epoch: 15, Step:  5600/19550] loss: 1.051\n",
            "[Epoch: 15, Step:  5700/19550] loss: 1.034\n",
            "[Epoch: 15, Step:  5800/19550] loss: 1.020\n",
            "Epoch 15: Test Accuracy = 66.48%\n",
            "[Epoch: 16, Step:  5900/19550] loss: 0.347\n",
            "[Epoch: 16, Step:  6000/19550] loss: 1.012\n",
            "[Epoch: 16, Step:  6100/19550] loss: 1.022\n",
            "[Epoch: 16, Step:  6200/19550] loss: 1.015\n",
            "Epoch 16: Test Accuracy = 66.97%\n",
            "[Epoch: 17, Step:  6300/19550] loss: 0.442\n",
            "[Epoch: 17, Step:  6400/19550] loss: 0.991\n",
            "[Epoch: 17, Step:  6500/19550] loss: 0.993\n",
            "[Epoch: 17, Step:  6600/19550] loss: 1.002\n",
            "Epoch 17: Test Accuracy = 67.40%\n",
            "[Epoch: 18, Step:  6700/19550] loss: 0.511\n",
            "[Epoch: 18, Step:  6800/19550] loss: 0.988\n",
            "[Epoch: 18, Step:  6900/19550] loss: 0.974\n",
            "[Epoch: 18, Step:  7000/19550] loss: 0.963\n",
            "Epoch 18: Test Accuracy = 67.96%\n",
            "[Epoch: 19, Step:  7100/19550] loss: 0.587\n",
            "[Epoch: 19, Step:  7200/19550] loss: 0.961\n",
            "[Epoch: 19, Step:  7300/19550] loss: 0.935\n",
            "[Epoch: 19, Step:  7400/19550] loss: 0.956\n",
            "Epoch 19: Test Accuracy = 68.63%\n",
            "[Epoch: 20, Step:  7500/19550] loss: 0.672\n",
            "[Epoch: 20, Step:  7600/19550] loss: 0.945\n",
            "[Epoch: 20, Step:  7700/19550] loss: 0.934\n",
            "[Epoch: 20, Step:  7800/19550] loss: 0.930\n",
            "Epoch 20: Test Accuracy = 68.70%\n",
            "[Epoch: 21, Step:  7900/19550] loss: 0.728\n",
            "[Epoch: 21, Step:  8000/19550] loss: 0.917\n",
            "[Epoch: 21, Step:  8100/19550] loss: 0.925\n",
            "[Epoch: 21, Step:  8200/19550] loss: 0.914\n",
            "Epoch 21: Test Accuracy = 69.76%\n",
            "[Epoch: 22, Step:  8300/19550] loss: 0.805\n",
            "[Epoch: 22, Step:  8400/19550] loss: 0.916\n",
            "[Epoch: 22, Step:  8500/19550] loss: 0.911\n",
            "[Epoch: 22, Step:  8600/19550] loss: 0.897\n",
            "Epoch 22: Test Accuracy = 68.90%\n",
            "[Epoch: 23, Step:  8700/19550] loss: 0.868\n",
            "[Epoch: 23, Step:  8800/19550] loss: 0.897\n",
            "[Epoch: 23, Step:  8900/19550] loss: 0.872\n",
            "Epoch 23: Test Accuracy = 69.24%\n",
            "[Epoch: 24, Step:  9000/19550] loss: 0.062\n",
            "[Epoch: 24, Step:  9100/19550] loss: 0.871\n",
            "[Epoch: 24, Step:  9200/19550] loss: 0.884\n",
            "[Epoch: 24, Step:  9300/19550] loss: 0.875\n",
            "Epoch 24: Test Accuracy = 70.31%\n",
            "[Epoch: 25, Step:  9400/19550] loss: 0.139\n",
            "[Epoch: 25, Step:  9500/19550] loss: 0.855\n",
            "[Epoch: 25, Step:  9600/19550] loss: 0.841\n",
            "[Epoch: 25, Step:  9700/19550] loss: 0.854\n",
            "Epoch 25: Test Accuracy = 71.02%\n",
            "[Epoch: 26, Step:  9800/19550] loss: 0.214\n",
            "[Epoch: 26, Step:  9900/19550] loss: 0.848\n",
            "[Epoch: 26, Step: 10000/19550] loss: 0.835\n",
            "[Epoch: 26, Step: 10100/19550] loss: 0.847\n",
            "Epoch 26: Test Accuracy = 71.25%\n",
            "[Epoch: 27, Step: 10200/19550] loss: 0.283\n",
            "[Epoch: 27, Step: 10300/19550] loss: 0.813\n",
            "[Epoch: 27, Step: 10400/19550] loss: 0.839\n",
            "[Epoch: 27, Step: 10500/19550] loss: 0.830\n",
            "Epoch 27: Test Accuracy = 72.50%\n",
            "[Epoch: 28, Step: 10600/19550] loss: 0.348\n",
            "[Epoch: 28, Step: 10700/19550] loss: 0.809\n",
            "[Epoch: 28, Step: 10800/19550] loss: 0.810\n",
            "[Epoch: 28, Step: 10900/19550] loss: 0.822\n",
            "Epoch 28: Test Accuracy = 72.68%\n",
            "[Epoch: 29, Step: 11000/19550] loss: 0.413\n",
            "[Epoch: 29, Step: 11100/19550] loss: 0.802\n",
            "[Epoch: 29, Step: 11200/19550] loss: 0.788\n",
            "[Epoch: 29, Step: 11300/19550] loss: 0.796\n",
            "Epoch 29: Test Accuracy = 72.02%\n",
            "[Epoch: 30, Step: 11400/19550] loss: 0.484\n",
            "[Epoch: 30, Step: 11500/19550] loss: 0.772\n",
            "[Epoch: 30, Step: 11600/19550] loss: 0.799\n",
            "[Epoch: 30, Step: 11700/19550] loss: 0.799\n",
            "Epoch 30: Test Accuracy = 72.94%\n",
            "[Epoch: 31, Step: 11800/19550] loss: 0.546\n",
            "[Epoch: 31, Step: 11900/19550] loss: 0.784\n",
            "[Epoch: 31, Step: 12000/19550] loss: 0.781\n",
            "[Epoch: 31, Step: 12100/19550] loss: 0.781\n",
            "Epoch 31: Test Accuracy = 73.20%\n",
            "[Epoch: 32, Step: 12200/19550] loss: 0.608\n",
            "[Epoch: 32, Step: 12300/19550] loss: 0.776\n",
            "[Epoch: 32, Step: 12400/19550] loss: 0.768\n",
            "[Epoch: 32, Step: 12500/19550] loss: 0.764\n",
            "Epoch 32: Test Accuracy = 73.53%\n",
            "[Epoch: 33, Step: 12600/19550] loss: 0.677\n",
            "[Epoch: 33, Step: 12700/19550] loss: 0.748\n",
            "[Epoch: 33, Step: 12800/19550] loss: 0.740\n",
            "[Epoch: 33, Step: 12900/19550] loss: 0.753\n",
            "Epoch 33: Test Accuracy = 72.76%\n",
            "[Epoch: 34, Step: 13000/19550] loss: 0.712\n",
            "[Epoch: 34, Step: 13100/19550] loss: 0.763\n",
            "[Epoch: 34, Step: 13200/19550] loss: 0.759\n",
            "Epoch 34: Test Accuracy = 73.72%\n",
            "[Epoch: 35, Step: 13300/19550] loss: 0.046\n",
            "[Epoch: 35, Step: 13400/19550] loss: 0.733\n",
            "[Epoch: 35, Step: 13500/19550] loss: 0.726\n",
            "[Epoch: 35, Step: 13600/19550] loss: 0.728\n",
            "Epoch 35: Test Accuracy = 74.26%\n",
            "[Epoch: 36, Step: 13700/19550] loss: 0.106\n",
            "[Epoch: 36, Step: 13800/19550] loss: 0.725\n",
            "[Epoch: 36, Step: 13900/19550] loss: 0.714\n",
            "[Epoch: 36, Step: 14000/19550] loss: 0.711\n",
            "Epoch 36: Test Accuracy = 74.25%\n",
            "[Epoch: 37, Step: 14100/19550] loss: 0.163\n",
            "[Epoch: 37, Step: 14200/19550] loss: 0.710\n",
            "[Epoch: 37, Step: 14300/19550] loss: 0.710\n",
            "[Epoch: 37, Step: 14400/19550] loss: 0.713\n",
            "Epoch 37: Test Accuracy = 73.50%\n",
            "[Epoch: 38, Step: 14500/19550] loss: 0.234\n",
            "[Epoch: 38, Step: 14600/19550] loss: 0.708\n",
            "[Epoch: 38, Step: 14700/19550] loss: 0.725\n",
            "[Epoch: 38, Step: 14800/19550] loss: 0.707\n",
            "Epoch 38: Test Accuracy = 73.54%\n",
            "[Epoch: 39, Step: 14900/19550] loss: 0.289\n",
            "[Epoch: 39, Step: 15000/19550] loss: 0.694\n",
            "[Epoch: 39, Step: 15100/19550] loss: 0.701\n",
            "[Epoch: 39, Step: 15200/19550] loss: 0.689\n",
            "Epoch 39: Test Accuracy = 74.37%\n",
            "[Epoch: 40, Step: 15300/19550] loss: 0.348\n",
            "[Epoch: 40, Step: 15400/19550] loss: 0.672\n",
            "[Epoch: 40, Step: 15500/19550] loss: 0.699\n",
            "[Epoch: 40, Step: 15600/19550] loss: 0.683\n",
            "Epoch 40: Test Accuracy = 73.65%\n",
            "[Epoch: 41, Step: 15700/19550] loss: 0.403\n",
            "[Epoch: 41, Step: 15800/19550] loss: 0.673\n",
            "[Epoch: 41, Step: 15900/19550] loss: 0.671\n",
            "[Epoch: 41, Step: 16000/19550] loss: 0.677\n",
            "Epoch 41: Test Accuracy = 74.56%\n",
            "[Epoch: 42, Step: 16100/19550] loss: 0.445\n",
            "[Epoch: 42, Step: 16200/19550] loss: 0.658\n",
            "[Epoch: 42, Step: 16300/19550] loss: 0.664\n",
            "[Epoch: 42, Step: 16400/19550] loss: 0.666\n",
            "Epoch 42: Test Accuracy = 74.97%\n",
            "[Epoch: 43, Step: 16500/19550] loss: 0.504\n",
            "[Epoch: 43, Step: 16600/19550] loss: 0.664\n",
            "[Epoch: 43, Step: 16700/19550] loss: 0.655\n",
            "[Epoch: 43, Step: 16800/19550] loss: 0.667\n",
            "Epoch 43: Test Accuracy = 74.74%\n",
            "[Epoch: 44, Step: 16900/19550] loss: 0.561\n",
            "[Epoch: 44, Step: 17000/19550] loss: 0.637\n",
            "[Epoch: 44, Step: 17100/19550] loss: 0.653\n",
            "[Epoch: 44, Step: 17200/19550] loss: 0.669\n",
            "Epoch 44: Test Accuracy = 75.41%\n",
            "[Epoch: 45, Step: 17300/19550] loss: 0.593\n",
            "[Epoch: 45, Step: 17400/19550] loss: 0.640\n",
            "[Epoch: 45, Step: 17500/19550] loss: 0.653\n",
            "Epoch 45: Test Accuracy = 74.52%\n",
            "[Epoch: 46, Step: 17600/19550] loss: 0.030\n",
            "[Epoch: 46, Step: 17700/19550] loss: 0.618\n",
            "[Epoch: 46, Step: 17800/19550] loss: 0.625\n",
            "[Epoch: 46, Step: 17900/19550] loss: 0.643\n",
            "Epoch 46: Test Accuracy = 74.91%\n",
            "[Epoch: 47, Step: 18000/19550] loss: 0.085\n",
            "[Epoch: 47, Step: 18100/19550] loss: 0.623\n",
            "[Epoch: 47, Step: 18200/19550] loss: 0.636\n",
            "[Epoch: 47, Step: 18300/19550] loss: 0.628\n",
            "Epoch 47: Test Accuracy = 75.99%\n",
            "[Epoch: 48, Step: 18400/19550] loss: 0.141\n",
            "[Epoch: 48, Step: 18500/19550] loss: 0.617\n",
            "[Epoch: 48, Step: 18600/19550] loss: 0.621\n",
            "[Epoch: 48, Step: 18700/19550] loss: 0.611\n",
            "Epoch 48: Test Accuracy = 75.26%\n",
            "[Epoch: 49, Step: 18800/19550] loss: 0.192\n",
            "[Epoch: 49, Step: 18900/19550] loss: 0.613\n",
            "[Epoch: 49, Step: 19000/19550] loss: 0.606\n",
            "[Epoch: 49, Step: 19100/19550] loss: 0.603\n",
            "Epoch 49: Test Accuracy = 76.01%\n",
            "[Epoch: 50, Step: 19200/19550] loss: 0.243\n",
            "[Epoch: 50, Step: 19300/19550] loss: 0.579\n",
            "[Epoch: 50, Step: 19400/19550] loss: 0.611\n",
            "[Epoch: 50, Step: 19500/19550] loss: 0.603\n",
            "Epoch 50: Test Accuracy = 74.45%\n"
          ]
        }
      ]
    },
    {
      "cell_type": "code",
      "source": [
        "print(\"Train Losses:\" + str(train_losses[-1]))\n",
        "print(\"Last Train Accuracy:\" + str(train_accuracies[-1]))\n",
        "print(\"Last Test Accuracy:\" + str(test_accuracies[-1]))"
      ],
      "metadata": {
        "colab": {
          "base_uri": "https://localhost:8080/"
        },
        "id": "K4sAfoXKiR9O",
        "outputId": "10a95ac4-6859-4297-8adb-71f92fa7854b"
      },
      "execution_count": 14,
      "outputs": [
        {
          "output_type": "stream",
          "name": "stdout",
          "text": [
            "Train Losses:0.6034696349501609\n",
            "Last Train Accuracy:78.116\n",
            "Last Test Accuracy:74.45\n"
          ]
        }
      ]
    },
    {
      "cell_type": "code",
      "source": [
        "import matplotlib.pyplot as plt\n",
        "%matplotlib inline\n",
        "\n",
        "plt.figure(figsize=(10, 5))\n",
        "\n",
        "plt.subplot(1, 2, 1)\n",
        "plt.plot(train_losses, label='Training Loss')\n",
        "plt.xlabel('Batch')\n",
        "plt.ylabel('Loss')\n",
        "plt.title('Loss per Training Batch')\n",
        "plt.legend()\n",
        "\n",
        "plt.subplot(1, 2, 2)\n",
        "plt.plot(train_accuracies, label='Training Accuracy')\n",
        "plt.plot(test_accuracies, label='Test Accuracy')\n",
        "plt.xlabel('Epoch')\n",
        "plt.ylabel('Accuracy (%)')\n",
        "plt.title('Training and Test Accuracies')\n",
        "plt.legend()\n",
        "\n",
        "plt.tight_layout()\n",
        "plt.show()"
      ],
      "metadata": {
        "colab": {
          "base_uri": "https://localhost:8080/",
          "height": 434
        },
        "id": "8CgMjgZ95UyV",
        "outputId": "dcce102c-6962-4d3a-ce8f-bcadde7006bc"
      },
      "execution_count": 15,
      "outputs": [
        {
          "output_type": "display_data",
          "data": {
            "text/plain": [
              "<Figure size 1000x500 with 2 Axes>"
            ],
            "image/png": "[encoded data removed]"
          },
          "metadata": {}
        }
      ]
    },
    {
      "cell_type": "code",
      "source": [],
      "metadata": {
        "id": "yvWpXZaI5ent"
      },
      "execution_count": null,
      "outputs": []
    }
  ]
}